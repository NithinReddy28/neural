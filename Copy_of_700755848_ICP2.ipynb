{
  "nbformat": 4,
  "nbformat_minor": 0,
  "metadata": {
    "colab": {
      "provenance": [],
      "toc_visible": true
    },
    "kernelspec": {
      "name": "python3",
      "display_name": "Python 3"
    },
    "language_info": {
      "name": "python"
    }
  },
  "cells": [
    {
      "cell_type": "code",
      "execution_count": null,
      "metadata": {
        "colab": {
          "base_uri": "https://localhost:8080/"
        },
        "id": "kxhTueXymXZE",
        "outputId": "f05a3ad0-b766-4592-ffee-4a26d10976fd"
      },
      "outputs": [
        {
          "output_type": "stream",
          "name": "stdout",
          "text": [
            "55500.0\n",
            "55500.0\n",
            "4\n"
          ]
        }
      ],
      "source": [
        "# Create class as Employee\n",
        "class Employee:\n",
        "  emp_count = 0\n",
        "\n",
        "# Declaration and initialization of constructor\n",
        "  def __init__(self, name, family, salary, department):\n",
        "\n",
        "        self.name = name\n",
        "        self.family = family\n",
        "        self.salary = salary\n",
        "        self.department = department\n",
        "        Employee.emp_count = Employee.emp_count + 1\n",
        "\n",
        "# Create function as avg_saal\n",
        "  def avg_sal(self, emps):\n",
        "      sum_sal = 0\n",
        "      for i in emps:\n",
        "            sum_sal= sum_sal+ i.salary\n",
        "\n",
        "# Print output\n",
        "      print(sum_sal/len(emps))\n",
        "\n",
        "# Create class as Fulltime_Employee\n",
        "class Fulltime_Employee(Employee):\n",
        "  def __init__(self, name, family, salary, department):\n",
        "         Employee.__init__(self, name, family, salary, department)\n",
        "\n",
        "list = []\n",
        "list.append(Employee('Priyatham', 'Swapna', 42000, 'Accounts'))\n",
        "list.append(Employee('Gaddam', 'Sai Sri', 85000, 'Salesforce'))\n",
        "\n",
        "list.append(Fulltime_Employee('Nithin', 'Disha', 65000, 'Architectutre'))\n",
        "list.append(Fulltime_Employee('Eshwar', 'Diya', 30000, 'Management'))\n",
        "\n",
        "list[0].avg_sal(list)\n",
        "list[2].avg_sal(list)\n",
        "\n",
        "# Print output as employee count\n",
        "print(Employee.emp_count)"
      ]
    },
    {
      "cell_type": "code",
      "source": [
        "import numpy as np\n",
        "\n",
        "# Create random vector of size 20 with floats between 1 and 20\n",
        "vec = np.random.uniform(1, 20, 20)\n",
        "\n",
        "# Reshape the vector to 4 by 5\n",
        "mat = vec.reshape(4, 5)\n",
        "\n",
        "# Replace the max in each row by 0\n",
        "mat[np.arange(4), mat.argmax(axis=1)] = 0\n",
        "\n",
        "# Print output\n",
        "print(mat)\n"
      ],
      "metadata": {
        "colab": {
          "base_uri": "https://localhost:8080/"
        },
        "id": "HSLSmz3nm1X_",
        "outputId": "02ce8e3f-6d25-4251-fa57-5694dea6483c"
      },
      "execution_count": null,
      "outputs": [
        {
          "output_type": "stream",
          "name": "stdout",
          "text": [
            "[[ 5.62155118  1.52774492  0.         14.74653897  1.40187201]\n",
            " [ 0.          7.99424109  8.62663566  1.94042828  6.65579971]\n",
            " [ 0.         17.2640708   8.1233066   1.99161508  4.81157489]\n",
            " [10.94019001  4.10741978  0.          4.75043671  8.3344013 ]]\n"
          ]
        }
      ]
    }
  ]
}